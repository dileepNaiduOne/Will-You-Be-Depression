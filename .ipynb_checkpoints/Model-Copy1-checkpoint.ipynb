{
 "cells": [
  {
   "attachments": {},
   "cell_type": "markdown",
   "id": "01e7f559-b4a3-43bd-98c7-9e3eb490d2ff",
   "metadata": {},
   "source": [
    "## Current Industry Practices and the Role of Logistic Regression in Mental Health\n",
    "```Logistic regression is a widely used machine learning technique in the healthcare industry for predicting binary outcomes, such as the presence or absence of depression. It is favored for its simplicity, interpretability, and effectiveness in handling structured clinical data. In practice, logistic regression models utilize patient demographics, lifestyle factors, medical history, and psychological assessments to predict depression risk, supporting early diagnosis and personalized treatment plans in clinical settings.```\n",
    "\n",
    "## Research Landscape and Recent Developments in Depression Prediction\n",
    "```Recent studies demonstrate the effectiveness of logistic regression models in accurately predicting depression by identifying significant risk factors such as age, sleep patterns, and physical activity. For instance, research by Smith et al. (2022) and Zhang et al. (2023) showed logistic regression models achieving high accuracy in depression classification. These models are praised for their ability to provide clear, interpretable results that can be easily communicated to healthcare professionals for clinical decision-making.```\n",
    "\n",
    "## Challenges, Limitations, and Future Directions\n",
    "```While logistic regression is a robust tool for depression prediction, challenges such as handling multicollinearity, feature scaling, and dealing with missing data can affect model performance. Recent literature explores techniques like regularization and data imputation to overcome these limitations. The field is also moving towards integrating logistic regression with advanced machine learning methods to enhance predictive accuracy while maintaining interpretability, addressing the evolving needs of precision mental health care.```"
   ]
  },
  {
   "cell_type": "markdown",
   "id": "6e477e10-5b5b-4530-b052-542d575348e0",
   "metadata": {},
   "source": [
    "|    | Variable Name                | Type        | Description                                                  | Values                                                                 |\n",
    "|---:|:-----------------------------|:------------|:-------------------------------------------------------------|:-----------------------------------------------------------------------|\n",
    "|  0 | Age                          | Numerical   | The age of the individual.                                   | Numbers                                                                |\n",
    "|  1 | Marital Status               | Categorical | The marital status of the individual.                        | Married, Single, Widowed, Divorced                                     |\n",
    "|  2 | Education Level              | Categorical | The highest level of education attained by the individual.   | Bachelor's Degree, High School, Associate Degree, Master's Degree, PhD |\n",
    "|  3 | Number of Children           | Numerical   | The number of children the individual has.                   | 0, 1, 2, 3, 4                                                          |\n",
    "|  4 | Smoking Status               | Categorical | Whether the individual smokes.                               | Non-smoker, Former, Current                                            |\n",
    "|  5 | Physical Activity Level      | Categorical | The level of physical activity engaged in by the individual. | Sedentary, Moderate, Active                                            |\n",
    "|  6 | Employment Status            | Categorical | The current employment status of the individual.             | Employed, Unemployed                                                   |\n",
    "|  7 | Income                       | Numerical   | The annual income of the individual.                         | Numbers                                                                |\n",
    "|  8 | Alcohol Consumption          | Categorical | The level of alcohol consumption by the individual.          | Moderate, Low, High                                                    |\n",
    "|  9 | Dietary Habits               | Categorical | The eating habits of the individual.                         | Unhealthy, Moderate, Healthy                                           |\n",
    "| 10 | Sleep Patterns               | Categorical | The sleep patterns of the individual.                        | Fair, Poor, Good                                                       |\n",
    "| 11 | History of Mental Illness    | Categorical | Whether the individual has a history of mental illness.      | No, Yes                                                                |\n",
    "| 12 | History of Substance Abuse   | Categorical | Whether the individual has a history of substance abuse.     | No, Yes                                                                |\n",
    "| 13 | Family History of Depression | Categorical | Whether there is a family history of depression.             | No, Yes                                                                |\n",
    "| 14 | Depression                   | Categorical | Whether the individual has any chronic medical conditions.   | No, Yes                                                                |\n",
    "| 15 | Name                         | Object      | Name of Individual                                           | —                                                                      |"
   ]
  },
  {
   "cell_type": "markdown",
   "id": "19eef2f2-0e56-40a1-9222-466b39f644a7",
   "metadata": {},
   "source": [
    "## Libraries"
   ]
  },
  {
   "cell_type": "code",
   "execution_count": 118,
   "id": "93472e43-1183-40f0-a7fd-6dc4c7f00794",
   "metadata": {
    "execution": {
     "iopub.execute_input": "2024-09-03T18:56:39.428238Z",
     "iopub.status.busy": "2024-09-03T18:56:39.428238Z",
     "iopub.status.idle": "2024-09-03T18:56:39.438921Z",
     "shell.execute_reply": "2024-09-03T18:56:39.436913Z",
     "shell.execute_reply.started": "2024-09-03T18:56:39.428238Z"
    }
   },
   "outputs": [],
   "source": [
    "import warnings\n",
    "warnings.filterwarnings(\"ignore\")\n",
    "\n",
    "import pandas as pd\n",
    "import numpy as np\n",
    "import seaborn as sns\n",
    "import matplotlib.pyplot as plt\n",
    "from sklearn.linear_model import LogisticRegression, RidgeClassifier\n",
    "from sklearn.model_selection import train_test_split\n",
    "from sklearn.metrics import classification_report\n",
    "from sklearn.preprocessing import LabelEncoder\n",
    "from sklearn.preprocessing import MinMaxScaler\n",
    "from sklearn.preprocessing import OneHotEncoder\n",
    "\n",
    "import time"
   ]
  },
  {
   "cell_type": "code",
   "execution_count": 119,
   "id": "96f8d07e-7dcb-4ca4-86db-8872d2f89956",
   "metadata": {
    "execution": {
     "iopub.execute_input": "2024-09-03T18:56:39.443921Z",
     "iopub.status.busy": "2024-09-03T18:56:39.442921Z",
     "iopub.status.idle": "2024-09-03T18:56:41.078478Z",
     "shell.execute_reply": "2024-09-03T18:56:41.078478Z",
     "shell.execute_reply.started": "2024-09-03T18:56:39.443921Z"
    }
   },
   "outputs": [],
   "source": [
    "import pyarrow as pa\n",
    "import pyarrow.parquet as pq\n",
    "\n",
    "file = pd.read_csv(\"depression_data.csv\")\n",
    "table = pa.Table.from_pandas(file)\n",
    "pq.write_table(table, \"depression_data.parquet\")"
   ]
  },
  {
   "cell_type": "markdown",
   "id": "aec805f1-c20a-4e2b-8b19-1ad74898ef58",
   "metadata": {},
   "source": [
    "###\n",
    "---\n",
    "###"
   ]
  },
  {
   "cell_type": "markdown",
   "id": "da64673f-0f11-4e13-80a2-f384e3f05096",
   "metadata": {},
   "source": [
    "## Tell Time  - Decorator for calculating the time"
   ]
  },
  {
   "cell_type": "code",
   "execution_count": 120,
   "id": "391cc4b8-1e07-45d7-a0d9-41d5c1524f2b",
   "metadata": {
    "execution": {
     "iopub.execute_input": "2024-09-03T18:56:41.079490Z",
     "iopub.status.busy": "2024-09-03T18:56:41.079490Z",
     "iopub.status.idle": "2024-09-03T18:56:41.083962Z",
     "shell.execute_reply": "2024-09-03T18:56:41.083962Z",
     "shell.execute_reply.started": "2024-09-03T18:56:41.079490Z"
    }
   },
   "outputs": [],
   "source": [
    "def tell_time(function, *args, **kwargs):\n",
    "    def wrapper(*args, **kwargs):\n",
    "        start = time.time()\n",
    "        done = function(*args, **kwargs)\n",
    "        print(f\"{function.__name__}() function took - {(time.time()-start)//60} Mins {(time.time()-start)%60:.3f} Sec\")\n",
    "        return done\n",
    "    return wrapper"
   ]
  },
  {
   "cell_type": "code",
   "execution_count": 121,
   "id": "9b12b733-cbde-4445-988a-f9ef1ded1576",
   "metadata": {
    "execution": {
     "iopub.execute_input": "2024-09-03T18:56:41.083962Z",
     "iopub.status.busy": "2024-09-03T18:56:41.083962Z",
     "iopub.status.idle": "2024-09-03T18:56:41.089502Z",
     "shell.execute_reply": "2024-09-03T18:56:41.089231Z",
     "shell.execute_reply.started": "2024-09-03T18:56:41.083962Z"
    },
    "scrolled": true
   },
   "outputs": [],
   "source": [
    "@tell_time\n",
    "def read_csv_data(file):\n",
    "    return pd.read_csv(file)"
   ]
  },
  {
   "cell_type": "code",
   "execution_count": 122,
   "id": "352b7a9b-a527-4545-9fa0-91f2a7f43853",
   "metadata": {
    "execution": {
     "iopub.execute_input": "2024-09-03T18:56:41.089502Z",
     "iopub.status.busy": "2024-09-03T18:56:41.089502Z",
     "iopub.status.idle": "2024-09-03T18:56:41.095670Z",
     "shell.execute_reply": "2024-09-03T18:56:41.095670Z",
     "shell.execute_reply.started": "2024-09-03T18:56:41.089502Z"
    },
    "scrolled": true
   },
   "outputs": [],
   "source": [
    "@tell_time\n",
    "def read_parquet_data(file):\n",
    "    return pd.read_parquet(file)"
   ]
  },
  {
   "cell_type": "markdown",
   "id": "66545447-345d-49b6-9130-7952bb312207",
   "metadata": {},
   "source": [
    "###\n",
    "---\n",
    "###"
   ]
  },
  {
   "cell_type": "markdown",
   "id": "ac99ec37-f40a-4ae4-bb86-bbed3e96b158",
   "metadata": {},
   "source": [
    "## Reading the Dataset"
   ]
  },
  {
   "cell_type": "code",
   "execution_count": 123,
   "id": "b183a17d-22d1-4915-aac1-aaf763b7e87b",
   "metadata": {
    "execution": {
     "iopub.execute_input": "2024-09-03T18:56:41.097204Z",
     "iopub.status.busy": "2024-09-03T18:56:41.097204Z",
     "iopub.status.idle": "2024-09-03T18:56:41.883376Z",
     "shell.execute_reply": "2024-09-03T18:56:41.883376Z",
     "shell.execute_reply.started": "2024-09-03T18:56:41.097204Z"
    }
   },
   "outputs": [
    {
     "name": "stdout",
     "output_type": "stream",
     "text": [
      "read_csv_data() function took - 0.0 Mins 0.777 Sec\n"
     ]
    }
   ],
   "source": [
    "csv_df = read_csv_data(\"depression_data.csv\")"
   ]
  },
  {
   "cell_type": "code",
   "execution_count": 124,
   "id": "1d3c98b2-5e82-4192-a5a1-72fb92dab162",
   "metadata": {
    "execution": {
     "iopub.execute_input": "2024-09-03T18:56:41.883376Z",
     "iopub.status.busy": "2024-09-03T18:56:41.883376Z",
     "iopub.status.idle": "2024-09-03T18:56:42.329783Z",
     "shell.execute_reply": "2024-09-03T18:56:42.329783Z",
     "shell.execute_reply.started": "2024-09-03T18:56:41.883376Z"
    }
   },
   "outputs": [
    {
     "name": "stdout",
     "output_type": "stream",
     "text": [
      "read_parquet_data() function took - 0.0 Mins 0.438 Sec\n"
     ]
    }
   ],
   "source": [
    "parquet_df = read_parquet_data(\"depression_data.parquet\")"
   ]
  },
  {
   "cell_type": "code",
   "execution_count": 125,
   "id": "3ff3e7c6-449a-45a8-b78a-306668ceaa93",
   "metadata": {
    "execution": {
     "iopub.execute_input": "2024-09-03T18:56:42.331628Z",
     "iopub.status.busy": "2024-09-03T18:56:42.331354Z",
     "iopub.status.idle": "2024-09-03T18:56:42.335372Z",
     "shell.execute_reply": "2024-09-03T18:56:42.334470Z",
     "shell.execute_reply.started": "2024-09-03T18:56:42.331354Z"
    }
   },
   "outputs": [],
   "source": [
    "df = parquet_df"
   ]
  },
  {
   "cell_type": "code",
   "execution_count": 126,
   "id": "da1dcb46-44cf-447c-b033-807ed3901926",
   "metadata": {
    "execution": {
     "iopub.execute_input": "2024-09-03T18:56:42.336446Z",
     "iopub.status.busy": "2024-09-03T18:56:42.336372Z",
     "iopub.status.idle": "2024-09-03T18:56:42.342970Z",
     "shell.execute_reply": "2024-09-03T18:56:42.342379Z",
     "shell.execute_reply.started": "2024-09-03T18:56:42.336446Z"
    }
   },
   "outputs": [],
   "source": [
    "df.rename(columns={\"Chronic Medical Conditions\":\"Depression\"}, inplace=True)"
   ]
  },
  {
   "cell_type": "code",
   "execution_count": 127,
   "id": "3322c8de-9dcb-4daf-ac19-78602412ef19",
   "metadata": {
    "execution": {
     "iopub.execute_input": "2024-09-03T18:56:42.344658Z",
     "iopub.status.busy": "2024-09-03T18:56:42.343642Z",
     "iopub.status.idle": "2024-09-03T18:56:42.357267Z",
     "shell.execute_reply": "2024-09-03T18:56:42.357267Z",
     "shell.execute_reply.started": "2024-09-03T18:56:42.344658Z"
    }
   },
   "outputs": [
    {
     "data": {
      "text/html": [
       "<div>\n",
       "<style scoped>\n",
       "    .dataframe tbody tr th:only-of-type {\n",
       "        vertical-align: middle;\n",
       "    }\n",
       "\n",
       "    .dataframe tbody tr th {\n",
       "        vertical-align: top;\n",
       "    }\n",
       "\n",
       "    .dataframe thead th {\n",
       "        text-align: right;\n",
       "    }\n",
       "</style>\n",
       "<table border=\"1\" class=\"dataframe\">\n",
       "  <thead>\n",
       "    <tr style=\"text-align: right;\">\n",
       "      <th></th>\n",
       "      <th>Name</th>\n",
       "      <th>Age</th>\n",
       "      <th>Marital Status</th>\n",
       "      <th>Education Level</th>\n",
       "      <th>Number of Children</th>\n",
       "      <th>Smoking Status</th>\n",
       "      <th>Physical Activity Level</th>\n",
       "      <th>Employment Status</th>\n",
       "      <th>Income</th>\n",
       "      <th>Alcohol Consumption</th>\n",
       "      <th>Dietary Habits</th>\n",
       "      <th>Sleep Patterns</th>\n",
       "      <th>History of Mental Illness</th>\n",
       "      <th>History of Substance Abuse</th>\n",
       "      <th>Family History of Depression</th>\n",
       "      <th>Depression</th>\n",
       "    </tr>\n",
       "  </thead>\n",
       "  <tbody>\n",
       "    <tr>\n",
       "      <th>0</th>\n",
       "      <td>Christine Barker</td>\n",
       "      <td>31</td>\n",
       "      <td>Married</td>\n",
       "      <td>Bachelor's Degree</td>\n",
       "      <td>2</td>\n",
       "      <td>Non-smoker</td>\n",
       "      <td>Active</td>\n",
       "      <td>Unemployed</td>\n",
       "      <td>26265.67</td>\n",
       "      <td>Moderate</td>\n",
       "      <td>Moderate</td>\n",
       "      <td>Fair</td>\n",
       "      <td>Yes</td>\n",
       "      <td>No</td>\n",
       "      <td>Yes</td>\n",
       "      <td>Yes</td>\n",
       "    </tr>\n",
       "    <tr>\n",
       "      <th>1</th>\n",
       "      <td>Jacqueline Lewis</td>\n",
       "      <td>55</td>\n",
       "      <td>Married</td>\n",
       "      <td>High School</td>\n",
       "      <td>1</td>\n",
       "      <td>Non-smoker</td>\n",
       "      <td>Sedentary</td>\n",
       "      <td>Employed</td>\n",
       "      <td>42710.36</td>\n",
       "      <td>High</td>\n",
       "      <td>Unhealthy</td>\n",
       "      <td>Fair</td>\n",
       "      <td>Yes</td>\n",
       "      <td>No</td>\n",
       "      <td>No</td>\n",
       "      <td>Yes</td>\n",
       "    </tr>\n",
       "    <tr>\n",
       "      <th>2</th>\n",
       "      <td>Shannon Church</td>\n",
       "      <td>78</td>\n",
       "      <td>Widowed</td>\n",
       "      <td>Master's Degree</td>\n",
       "      <td>1</td>\n",
       "      <td>Non-smoker</td>\n",
       "      <td>Sedentary</td>\n",
       "      <td>Employed</td>\n",
       "      <td>125332.79</td>\n",
       "      <td>Low</td>\n",
       "      <td>Unhealthy</td>\n",
       "      <td>Good</td>\n",
       "      <td>No</td>\n",
       "      <td>No</td>\n",
       "      <td>Yes</td>\n",
       "      <td>No</td>\n",
       "    </tr>\n",
       "  </tbody>\n",
       "</table>\n",
       "</div>"
      ],
      "text/plain": [
       "               Name  Age Marital Status    Education Level  \\\n",
       "0  Christine Barker   31        Married  Bachelor's Degree   \n",
       "1  Jacqueline Lewis   55        Married        High School   \n",
       "2    Shannon Church   78        Widowed    Master's Degree   \n",
       "\n",
       "   Number of Children Smoking Status Physical Activity Level  \\\n",
       "0                   2     Non-smoker                  Active   \n",
       "1                   1     Non-smoker               Sedentary   \n",
       "2                   1     Non-smoker               Sedentary   \n",
       "\n",
       "  Employment Status     Income Alcohol Consumption Dietary Habits  \\\n",
       "0        Unemployed   26265.67            Moderate       Moderate   \n",
       "1          Employed   42710.36                High      Unhealthy   \n",
       "2          Employed  125332.79                 Low      Unhealthy   \n",
       "\n",
       "  Sleep Patterns History of Mental Illness History of Substance Abuse  \\\n",
       "0           Fair                       Yes                         No   \n",
       "1           Fair                       Yes                         No   \n",
       "2           Good                        No                         No   \n",
       "\n",
       "  Family History of Depression Depression  \n",
       "0                          Yes        Yes  \n",
       "1                           No        Yes  \n",
       "2                          Yes         No  "
      ]
     },
     "execution_count": 127,
     "metadata": {},
     "output_type": "execute_result"
    }
   ],
   "source": [
    "df.head(3)"
   ]
  },
  {
   "cell_type": "markdown",
   "id": "6374c6ca-8e26-4d0c-9953-ec49b5325c39",
   "metadata": {},
   "source": [
    "###\n",
    "---\n",
    "###"
   ]
  },
  {
   "cell_type": "markdown",
   "id": "ac6ef24a-7d0e-4e1a-8bc4-6af914b10ced",
   "metadata": {},
   "source": [
    "## Inspection of Dataset "
   ]
  },
  {
   "cell_type": "code",
   "execution_count": 128,
   "id": "a654190c-0227-4d43-a298-cf79c4ba1e18",
   "metadata": {
    "execution": {
     "iopub.execute_input": "2024-09-03T18:56:42.357267Z",
     "iopub.status.busy": "2024-09-03T18:56:42.357267Z",
     "iopub.status.idle": "2024-09-03T18:56:42.362959Z",
     "shell.execute_reply": "2024-09-03T18:56:42.362959Z",
     "shell.execute_reply.started": "2024-09-03T18:56:42.357267Z"
    }
   },
   "outputs": [
    {
     "data": {
      "text/plain": [
       "(413768, 16)"
      ]
     },
     "execution_count": 128,
     "metadata": {},
     "output_type": "execute_result"
    }
   ],
   "source": [
    "df.shape"
   ]
  },
  {
   "cell_type": "code",
   "execution_count": 129,
   "id": "637b2e43-44c4-4493-9856-d60ac082f791",
   "metadata": {
    "execution": {
     "iopub.execute_input": "2024-09-03T18:56:42.362959Z",
     "iopub.status.busy": "2024-09-03T18:56:42.362959Z",
     "iopub.status.idle": "2024-09-03T18:56:42.581226Z",
     "shell.execute_reply": "2024-09-03T18:56:42.580554Z",
     "shell.execute_reply.started": "2024-09-03T18:56:42.362959Z"
    }
   },
   "outputs": [
    {
     "name": "stdout",
     "output_type": "stream",
     "text": [
      "<class 'pandas.core.frame.DataFrame'>\n",
      "RangeIndex: 413768 entries, 0 to 413767\n",
      "Data columns (total 16 columns):\n",
      " #   Column                        Non-Null Count   Dtype  \n",
      "---  ------                        --------------   -----  \n",
      " 0   Name                          413768 non-null  object \n",
      " 1   Age                           413768 non-null  int64  \n",
      " 2   Marital Status                413768 non-null  object \n",
      " 3   Education Level               413768 non-null  object \n",
      " 4   Number of Children            413768 non-null  int64  \n",
      " 5   Smoking Status                413768 non-null  object \n",
      " 6   Physical Activity Level       413768 non-null  object \n",
      " 7   Employment Status             413768 non-null  object \n",
      " 8   Income                        413768 non-null  float64\n",
      " 9   Alcohol Consumption           413768 non-null  object \n",
      " 10  Dietary Habits                413768 non-null  object \n",
      " 11  Sleep Patterns                413768 non-null  object \n",
      " 12  History of Mental Illness     413768 non-null  object \n",
      " 13  History of Substance Abuse    413768 non-null  object \n",
      " 14  Family History of Depression  413768 non-null  object \n",
      " 15  Depression                    413768 non-null  object \n",
      "dtypes: float64(1), int64(2), object(13)\n",
      "memory usage: 50.5+ MB\n"
     ]
    }
   ],
   "source": [
    "df.info()"
   ]
  },
  {
   "cell_type": "code",
   "execution_count": 130,
   "id": "4c7d719d-6d3e-4da5-b35f-7e10b6aaf599",
   "metadata": {
    "execution": {
     "iopub.execute_input": "2024-09-03T18:56:42.581226Z",
     "iopub.status.busy": "2024-09-03T18:56:42.581226Z",
     "iopub.status.idle": "2024-09-03T18:56:42.592430Z",
     "shell.execute_reply": "2024-09-03T18:56:42.591575Z",
     "shell.execute_reply.started": "2024-09-03T18:56:42.581226Z"
    }
   },
   "outputs": [
    {
     "data": {
      "text/plain": [
       "Number of Children\n",
       "0    155232\n",
       "2     83961\n",
       "1     83925\n",
       "3     76974\n",
       "4     13676\n",
       "Name: count, dtype: int64"
      ]
     },
     "execution_count": 130,
     "metadata": {},
     "output_type": "execute_result"
    }
   ],
   "source": [
    "df[\"Number of Children\"].value_counts()"
   ]
  },
  {
   "cell_type": "code",
   "execution_count": 131,
   "id": "3c066f55-fcde-4f9f-8e27-a927645f89f7",
   "metadata": {
    "execution": {
     "iopub.execute_input": "2024-09-03T18:56:42.592430Z",
     "iopub.status.busy": "2024-09-03T18:56:42.592430Z",
     "iopub.status.idle": "2024-09-03T18:56:42.605686Z",
     "shell.execute_reply": "2024-09-03T18:56:42.605686Z",
     "shell.execute_reply.started": "2024-09-03T18:56:42.592430Z"
    }
   },
   "outputs": [],
   "source": [
    "df[\"Number of Children\"] = df[\"Number of Children\"].astype(\"object\")"
   ]
  },
  {
   "cell_type": "markdown",
   "id": "068e4782-7c8c-4316-bd59-054831bfdf90",
   "metadata": {},
   "source": [
    "###\n",
    "---\n",
    "###"
   ]
  },
  {
   "cell_type": "markdown",
   "id": "6842f749-7cc8-4c7f-b401-431aa0736ce5",
   "metadata": {},
   "source": [
    "## Statistical Inferences - 5 Point Summary & describe"
   ]
  },
  {
   "cell_type": "code",
   "execution_count": 132,
   "id": "b1ad08b5-e4c7-4d3c-b4a5-bf7123dbe059",
   "metadata": {
    "execution": {
     "iopub.execute_input": "2024-09-03T18:56:42.606836Z",
     "iopub.status.busy": "2024-09-03T18:56:42.606836Z",
     "iopub.status.idle": "2024-09-03T18:56:42.648095Z",
     "shell.execute_reply": "2024-09-03T18:56:42.648095Z",
     "shell.execute_reply.started": "2024-09-03T18:56:42.606836Z"
    }
   },
   "outputs": [
    {
     "data": {
      "text/html": [
       "<div>\n",
       "<style scoped>\n",
       "    .dataframe tbody tr th:only-of-type {\n",
       "        vertical-align: middle;\n",
       "    }\n",
       "\n",
       "    .dataframe tbody tr th {\n",
       "        vertical-align: top;\n",
       "    }\n",
       "\n",
       "    .dataframe thead th {\n",
       "        text-align: right;\n",
       "    }\n",
       "</style>\n",
       "<table border=\"1\" class=\"dataframe\">\n",
       "  <thead>\n",
       "    <tr style=\"text-align: right;\">\n",
       "      <th></th>\n",
       "      <th>Age</th>\n",
       "      <th>Income</th>\n",
       "    </tr>\n",
       "  </thead>\n",
       "  <tbody>\n",
       "    <tr>\n",
       "      <th>count</th>\n",
       "      <td>413768.000000</td>\n",
       "      <td>413768.000000</td>\n",
       "    </tr>\n",
       "    <tr>\n",
       "      <th>mean</th>\n",
       "      <td>49.000713</td>\n",
       "      <td>50661.707971</td>\n",
       "    </tr>\n",
       "    <tr>\n",
       "      <th>std</th>\n",
       "      <td>18.158759</td>\n",
       "      <td>40624.100565</td>\n",
       "    </tr>\n",
       "    <tr>\n",
       "      <th>min</th>\n",
       "      <td>18.000000</td>\n",
       "      <td>0.410000</td>\n",
       "    </tr>\n",
       "    <tr>\n",
       "      <th>25%</th>\n",
       "      <td>33.000000</td>\n",
       "      <td>21001.030000</td>\n",
       "    </tr>\n",
       "    <tr>\n",
       "      <th>50%</th>\n",
       "      <td>49.000000</td>\n",
       "      <td>37520.135000</td>\n",
       "    </tr>\n",
       "    <tr>\n",
       "      <th>75%</th>\n",
       "      <td>65.000000</td>\n",
       "      <td>76616.300000</td>\n",
       "    </tr>\n",
       "    <tr>\n",
       "      <th>max</th>\n",
       "      <td>80.000000</td>\n",
       "      <td>209995.220000</td>\n",
       "    </tr>\n",
       "  </tbody>\n",
       "</table>\n",
       "</div>"
      ],
      "text/plain": [
       "                 Age         Income\n",
       "count  413768.000000  413768.000000\n",
       "mean       49.000713   50661.707971\n",
       "std        18.158759   40624.100565\n",
       "min        18.000000       0.410000\n",
       "25%        33.000000   21001.030000\n",
       "50%        49.000000   37520.135000\n",
       "75%        65.000000   76616.300000\n",
       "max        80.000000  209995.220000"
      ]
     },
     "execution_count": 132,
     "metadata": {},
     "output_type": "execute_result"
    }
   ],
   "source": [
    "df.describe(include=\"number\")"
   ]
  },
  {
   "cell_type": "code",
   "execution_count": 133,
   "id": "b8e3398c-a6e9-472e-8a7b-9f4ee57dbde7",
   "metadata": {
    "execution": {
     "iopub.execute_input": "2024-09-03T18:56:42.649101Z",
     "iopub.status.busy": "2024-09-03T18:56:42.649101Z",
     "iopub.status.idle": "2024-09-03T18:56:43.358331Z",
     "shell.execute_reply": "2024-09-03T18:56:43.358331Z",
     "shell.execute_reply.started": "2024-09-03T18:56:42.649101Z"
    },
    "scrolled": true
   },
   "outputs": [
    {
     "data": {
      "text/html": [
       "<div>\n",
       "<style scoped>\n",
       "    .dataframe tbody tr th:only-of-type {\n",
       "        vertical-align: middle;\n",
       "    }\n",
       "\n",
       "    .dataframe tbody tr th {\n",
       "        vertical-align: top;\n",
       "    }\n",
       "\n",
       "    .dataframe thead th {\n",
       "        text-align: right;\n",
       "    }\n",
       "</style>\n",
       "<table border=\"1\" class=\"dataframe\">\n",
       "  <thead>\n",
       "    <tr style=\"text-align: right;\">\n",
       "      <th></th>\n",
       "      <th>Name</th>\n",
       "      <th>Marital Status</th>\n",
       "      <th>Education Level</th>\n",
       "      <th>Number of Children</th>\n",
       "      <th>Smoking Status</th>\n",
       "      <th>Physical Activity Level</th>\n",
       "      <th>Employment Status</th>\n",
       "      <th>Alcohol Consumption</th>\n",
       "      <th>Dietary Habits</th>\n",
       "      <th>Sleep Patterns</th>\n",
       "      <th>History of Mental Illness</th>\n",
       "      <th>History of Substance Abuse</th>\n",
       "      <th>Family History of Depression</th>\n",
       "      <th>Depression</th>\n",
       "    </tr>\n",
       "  </thead>\n",
       "  <tbody>\n",
       "    <tr>\n",
       "      <th>count</th>\n",
       "      <td>413768</td>\n",
       "      <td>413768</td>\n",
       "      <td>413768</td>\n",
       "      <td>413768</td>\n",
       "      <td>413768</td>\n",
       "      <td>413768</td>\n",
       "      <td>413768</td>\n",
       "      <td>413768</td>\n",
       "      <td>413768</td>\n",
       "      <td>413768</td>\n",
       "      <td>413768</td>\n",
       "      <td>413768</td>\n",
       "      <td>413768</td>\n",
       "      <td>413768</td>\n",
       "    </tr>\n",
       "    <tr>\n",
       "      <th>unique</th>\n",
       "      <td>196851</td>\n",
       "      <td>4</td>\n",
       "      <td>5</td>\n",
       "      <td>5</td>\n",
       "      <td>3</td>\n",
       "      <td>3</td>\n",
       "      <td>2</td>\n",
       "      <td>3</td>\n",
       "      <td>3</td>\n",
       "      <td>3</td>\n",
       "      <td>2</td>\n",
       "      <td>2</td>\n",
       "      <td>2</td>\n",
       "      <td>2</td>\n",
       "    </tr>\n",
       "    <tr>\n",
       "      <th>top</th>\n",
       "      <td>Michael Smith</td>\n",
       "      <td>Married</td>\n",
       "      <td>Bachelor's Degree</td>\n",
       "      <td>0</td>\n",
       "      <td>Non-smoker</td>\n",
       "      <td>Sedentary</td>\n",
       "      <td>Employed</td>\n",
       "      <td>Moderate</td>\n",
       "      <td>Unhealthy</td>\n",
       "      <td>Fair</td>\n",
       "      <td>No</td>\n",
       "      <td>No</td>\n",
       "      <td>No</td>\n",
       "      <td>No</td>\n",
       "    </tr>\n",
       "    <tr>\n",
       "      <th>freq</th>\n",
       "      <td>198</td>\n",
       "      <td>240444</td>\n",
       "      <td>124329</td>\n",
       "      <td>155232</td>\n",
       "      <td>247416</td>\n",
       "      <td>176850</td>\n",
       "      <td>265659</td>\n",
       "      <td>173440</td>\n",
       "      <td>170817</td>\n",
       "      <td>196789</td>\n",
       "      <td>287943</td>\n",
       "      <td>284880</td>\n",
       "      <td>302515</td>\n",
       "      <td>277561</td>\n",
       "    </tr>\n",
       "  </tbody>\n",
       "</table>\n",
       "</div>"
      ],
      "text/plain": [
       "                 Name Marital Status    Education Level  Number of Children  \\\n",
       "count          413768         413768             413768              413768   \n",
       "unique         196851              4                  5                   5   \n",
       "top     Michael Smith        Married  Bachelor's Degree                   0   \n",
       "freq              198         240444             124329              155232   \n",
       "\n",
       "       Smoking Status Physical Activity Level Employment Status  \\\n",
       "count          413768                  413768            413768   \n",
       "unique              3                       3                 2   \n",
       "top        Non-smoker               Sedentary          Employed   \n",
       "freq           247416                  176850            265659   \n",
       "\n",
       "       Alcohol Consumption Dietary Habits Sleep Patterns  \\\n",
       "count               413768         413768         413768   \n",
       "unique                   3              3              3   \n",
       "top               Moderate      Unhealthy           Fair   \n",
       "freq                173440         170817         196789   \n",
       "\n",
       "       History of Mental Illness History of Substance Abuse  \\\n",
       "count                     413768                     413768   \n",
       "unique                         2                          2   \n",
       "top                           No                         No   \n",
       "freq                      287943                     284880   \n",
       "\n",
       "       Family History of Depression Depression  \n",
       "count                        413768     413768  \n",
       "unique                            2          2  \n",
       "top                              No         No  \n",
       "freq                         302515     277561  "
      ]
     },
     "execution_count": 133,
     "metadata": {},
     "output_type": "execute_result"
    }
   ],
   "source": [
    "df.describe(exclude=\"number\")"
   ]
  },
  {
   "cell_type": "markdown",
   "id": "c0da0843-815b-4c56-bb58-c7e5c3830cdc",
   "metadata": {},
   "source": [
    "###\n",
    "---\n",
    "###"
   ]
  },
  {
   "cell_type": "markdown",
   "id": "993caeaa-3e45-47ec-be4c-5ba41e02082e",
   "metadata": {},
   "source": [
    "## Cleaning the Data - Nulls & Duplicates"
   ]
  },
  {
   "cell_type": "code",
   "execution_count": 134,
   "id": "12bb2b21-8147-4071-b06b-7313ffc540da",
   "metadata": {
    "execution": {
     "iopub.execute_input": "2024-09-03T18:56:43.358331Z",
     "iopub.status.busy": "2024-09-03T18:56:43.358331Z",
     "iopub.status.idle": "2024-09-03T18:56:43.799256Z",
     "shell.execute_reply": "2024-09-03T18:56:43.799256Z",
     "shell.execute_reply.started": "2024-09-03T18:56:43.358331Z"
    }
   },
   "outputs": [
    {
     "data": {
      "text/plain": [
       "np.int64(0)"
      ]
     },
     "execution_count": 134,
     "metadata": {},
     "output_type": "execute_result"
    }
   ],
   "source": [
    "df.duplicated().sum()"
   ]
  },
  {
   "cell_type": "code",
   "execution_count": 135,
   "id": "a08f89d0-8f60-4e10-96a6-f76042388495",
   "metadata": {
    "execution": {
     "iopub.execute_input": "2024-09-03T18:56:43.799256Z",
     "iopub.status.busy": "2024-09-03T18:56:43.799256Z",
     "iopub.status.idle": "2024-09-03T18:56:44.007464Z",
     "shell.execute_reply": "2024-09-03T18:56:44.007464Z",
     "shell.execute_reply.started": "2024-09-03T18:56:43.799256Z"
    }
   },
   "outputs": [
    {
     "data": {
      "text/plain": [
       "Name                            0\n",
       "Age                             0\n",
       "Marital Status                  0\n",
       "Education Level                 0\n",
       "Number of Children              0\n",
       "Smoking Status                  0\n",
       "Physical Activity Level         0\n",
       "Employment Status               0\n",
       "Income                          0\n",
       "Alcohol Consumption             0\n",
       "Dietary Habits                  0\n",
       "Sleep Patterns                  0\n",
       "History of Mental Illness       0\n",
       "History of Substance Abuse      0\n",
       "Family History of Depression    0\n",
       "Depression                      0\n",
       "dtype: int64"
      ]
     },
     "execution_count": 135,
     "metadata": {},
     "output_type": "execute_result"
    }
   ],
   "source": [
    "df.isnull().sum()"
   ]
  },
  {
   "cell_type": "code",
   "execution_count": 136,
   "id": "e33f1e4d-6cc2-4b51-839a-f40a04233048",
   "metadata": {
    "execution": {
     "iopub.execute_input": "2024-09-03T18:56:44.009395Z",
     "iopub.status.busy": "2024-09-03T18:56:44.007464Z",
     "iopub.status.idle": "2024-09-03T18:56:44.058691Z",
     "shell.execute_reply": "2024-09-03T18:56:44.058691Z",
     "shell.execute_reply.started": "2024-09-03T18:56:44.009395Z"
    }
   },
   "outputs": [],
   "source": [
    "df.drop(\"Name\", axis=1, inplace=True)"
   ]
  },
  {
   "cell_type": "markdown",
   "id": "101a0685-8aef-4331-b35c-8c5a79b80a8b",
   "metadata": {},
   "source": [
    "###\n",
    "---\n",
    "###"
   ]
  },
  {
   "cell_type": "markdown",
   "id": "88d79477-f22e-4351-85ba-9abc212dd219",
   "metadata": {},
   "source": [
    "## Plots"
   ]
  },
  {
   "cell_type": "code",
   "execution_count": 137,
   "id": "4a6284f4-1bc2-47e1-959b-4ebb90d6cf7a",
   "metadata": {
    "execution": {
     "iopub.execute_input": "2024-09-03T18:56:44.058691Z",
     "iopub.status.busy": "2024-09-03T18:56:44.058691Z",
     "iopub.status.idle": "2024-09-03T18:56:45.431976Z",
     "shell.execute_reply": "2024-09-03T18:56:45.431976Z",
     "shell.execute_reply.started": "2024-09-03T18:56:44.058691Z"
    },
    "jupyter": {
     "source_hidden": true
    }
   },
   "outputs": [
    {
     "data": {
      "image/png": "[encoded data removed]",
      "text/plain": [
       "<Figure size 2000x500 with 2 Axes>"
      ]
     },
     "metadata": {},
     "output_type": "display_data"
    }
   ],
   "source": [
    "fig, ax = plt.subplots(nrows=1, ncols=2, figsize=(20,5))\n",
    "\n",
    "for feature, ax_object in zip(df.select_dtypes(include=\"number\").columns, ax.flatten()):\n",
    "    sns.boxplot(df[feature], ax=ax_object, color=\"green\")\n",
    "\n",
    "\n",
    "plt.tight_layout()\n",
    "plt.show()"
   ]
  },
  {
   "cell_type": "code",
   "execution_count": 138,
   "id": "2ea2c2d4-a0c6-4d44-881f-cdeb9e0ded4d",
   "metadata": {
    "execution": {
     "iopub.execute_input": "2024-09-03T18:56:45.431976Z",
     "iopub.status.busy": "2024-09-03T18:56:45.431976Z",
     "iopub.status.idle": "2024-09-03T18:57:04.552077Z",
     "shell.execute_reply": "2024-09-03T18:57:04.552077Z",
     "shell.execute_reply.started": "2024-09-03T18:56:45.431976Z"
    },
    "jupyter": {
     "source_hidden": true
    }
   },
   "outputs": [
    {
     "data": {
      "image/png": "[encoded data removed]",
      "text/plain": [
       "<Figure size 2000x500 with 2 Axes>"
      ]
     },
     "metadata": {},
     "output_type": "display_data"
    }
   ],
   "source": [
    "fig, ax = plt.subplots(nrows=1, ncols=2, figsize=(20,5))\n",
    "\n",
    "for feature, ax_object in zip(df.select_dtypes(include=\"number\").columns, ax.flatten()):\n",
    "    sns.kdeplot(df[feature], ax=ax_object, color=\"green\", fill=True)\n",
    "\n",
    "\n",
    "plt.tight_layout()\n",
    "plt.show()"
   ]
  },
  {
   "cell_type": "code",
   "execution_count": 139,
   "id": "cc3462d9-22e7-442f-bd12-0158b0f28f54",
   "metadata": {
    "execution": {
     "iopub.execute_input": "2024-09-03T18:57:04.552077Z",
     "iopub.status.busy": "2024-09-03T18:57:04.552077Z",
     "iopub.status.idle": "2024-09-03T18:57:05.965888Z",
     "shell.execute_reply": "2024-09-03T18:57:05.965888Z",
     "shell.execute_reply.started": "2024-09-03T18:57:04.552077Z"
    },
    "jupyter": {
     "source_hidden": true
    }
   },
   "outputs": [
    {
     "data": {
      "image/png": "[encoded data removed]",
      "text/plain": [
       "<Figure size 2000x700 with 16 Axes>"
      ]
     },
     "metadata": {},
     "output_type": "display_data"
    }
   ],
   "source": [
    "fig, axes = plt.subplots(nrows=4, ncols=4, figsize=(20, 7))\n",
    "\n",
    "for i in range(13):\n",
    "        \n",
    "    feature = ['Marital Status', 'Education Level', 'Number of Children',\n",
    "       'Smoking Status', 'Physical Activity Level', 'Employment Status',\n",
    "       'Alcohol Consumption', 'Dietary Habits', 'Sleep Patterns',\n",
    "       'History of Mental Illness', 'History of Substance Abuse',\n",
    "       'Family History of Depression', 'Depression']\n",
    "    \n",
    "    category = df[feature[i]].value_counts().index\n",
    "    percentage = [f\"{i:.2f}%\" for i in (df[feature[i]].value_counts().values/df.shape[0])*100]\n",
    "    \n",
    "    f_table = pd.DataFrame({\"Category\":category, \"Percentage\":percentage})\n",
    "\n",
    "    axes[i//4, i%4].axis('tight')\n",
    "    axes[i//4, i%4].axis('off')\n",
    "    axes[i//4, i%4].table(cellText=f_table.values, colLabels=f_table.columns, loc=\"center\", cellLoc=\"center\", fontsize=15, colColours=[\"yellow\"]*13)\n",
    "    axes[i//4, i%4].set_title(feature[i])\n",
    "\n",
    "\n",
    "\n",
    "axes[3, 1].axis('off')\n",
    "axes[3, 2].axis('off')\n",
    "axes[3, 3].axis('off')\n",
    "\n",
    "plt.tight_layout()\n",
    "plt.show()"
   ]
  },
  {
   "cell_type": "markdown",
   "id": "61b24fa5-b7a8-4625-8750-afd8ea93a4cc",
   "metadata": {},
   "source": [
    "###\n",
    "---\n",
    "###"
   ]
  },
  {
   "cell_type": "markdown",
   "id": "5856115d-2eb4-4883-a4f4-9792be625e41",
   "metadata": {},
   "source": [
    "## Hypothosis Testing"
   ]
  },
  {
   "cell_type": "code",
   "execution_count": 140,
   "id": "1470f903-ce57-4b40-bb4f-940ecaaf2c61",
   "metadata": {
    "execution": {
     "iopub.execute_input": "2024-09-03T18:57:05.965888Z",
     "iopub.status.busy": "2024-09-03T18:57:05.965888Z",
     "iopub.status.idle": "2024-09-03T18:57:05.971050Z",
     "shell.execute_reply": "2024-09-03T18:57:05.970406Z",
     "shell.execute_reply.started": "2024-09-03T18:57:05.965888Z"
    }
   },
   "outputs": [],
   "source": [
    "from scipy.stats import chi2_contingency, mannwhitneyu, chi2"
   ]
  },
  {
   "cell_type": "markdown",
   "id": "57c82ea5-294a-4119-b0d0-b64b195e024d",
   "metadata": {},
   "source": [
    "# `H0 : There is no relationship among two variables`\n",
    "\n",
    "# `H1 : There is relationship among two variables`"
   ]
  },
  {
   "cell_type": "code",
   "execution_count": 141,
   "id": "0bf79a77-d0be-4d31-8bc1-30cc8b5b91eb",
   "metadata": {
    "execution": {
     "iopub.execute_input": "2024-09-03T18:57:05.971673Z",
     "iopub.status.busy": "2024-09-03T18:57:05.971673Z",
     "iopub.status.idle": "2024-09-03T18:57:07.067540Z",
     "shell.execute_reply": "2024-09-03T18:57:07.067540Z",
     "shell.execute_reply.started": "2024-09-03T18:57:05.971673Z"
    },
    "jupyter": {
     "source_hidden": true
    }
   },
   "outputs": [],
   "source": [
    "hypo_test = {}\n",
    "nums = [\"Age\", \"Income\"]\n",
    "\n",
    "for i in parquet_df.columns:\n",
    "    if i in nums:\n",
    "        mini_df = parquet_df[[\"Depression\", i]]\n",
    "        cat_one = mini_df[mini_df[\"Depression\"] == \"No\"][i]\n",
    "        cat_two = mini_df[mini_df[\"Depression\"] == \"Yes\"][i]\n",
    "        test = mannwhitneyu(cat_one, cat_two)\n",
    "        hypo_test[i] = {\"Statistic\":test[0], \"P-Value\":test[1]}\n",
    "    else:\n",
    "        test = chi2_contingency(pd.crosstab(parquet_df[\"Depression\"], parquet_df[i]))\n",
    "        hypo_test[i] = {\"Statistic\":test[0], \"P-Value\":test[1]}\n",
    "\n",
    "hypo_test.pop(\"Depression\")\n",
    "\n",
    "statistic = [i[\"Statistic\"] for i in hypo_test.values()]\n",
    "p_Value = [i[\"P-Value\"] for i in hypo_test.values()]"
   ]
  },
  {
   "cell_type": "code",
   "execution_count": 142,
   "id": "63c93153-78bf-4139-bd67-154578baa857",
   "metadata": {
    "execution": {
     "iopub.execute_input": "2024-09-03T18:57:07.067540Z",
     "iopub.status.busy": "2024-09-03T18:57:07.067540Z",
     "iopub.status.idle": "2024-09-03T18:57:07.074056Z",
     "shell.execute_reply": "2024-09-03T18:57:07.073739Z",
     "shell.execute_reply.started": "2024-09-03T18:57:07.067540Z"
    },
    "jupyter": {
     "source_hidden": true
    }
   },
   "outputs": [],
   "source": [
    "a = pd.DataFrame(data={\n",
    "    \"Target Variable\":[\"Depression (2 Categories)\"]*14,\n",
    "    \"Another Variable\":['Age (Numerical)', 'Marital Status (4 Categories)', 'Education Level (5 Categories)', 'Number of Children (5 Categories)',\n",
    "       'Smoking Status (3 Categories)', 'Physical Activity Level (3 Categories)', 'Employment Status (2 Categories)',\n",
    "       'Income (Numerical)', 'Alcohol Consumption (3 Categories)', 'Dietary Habits (3 Categories)', 'Sleep Patterns (3 Categories)',\n",
    "       'History of Mental Illness (2 Categories)', 'History of Substance Abuse (2 Categories)',\n",
    "       'Family History of Depression (2 Categories)'],\n",
    "    \"Type of Hypothisis Test\":['Mann-Whitney U Test', 'Chi-Square Test', 'Chi-Square Test', 'Chi-Square Test', 'Chi-Square Test', 'Chi-Square Test',\n",
    "                               'Chi-Square Test','Mann-Whitney U Test', 'Chi-Square Test', 'Chi-Square Test', 'Chi-Square Test', 'Chi-Square Test', 'Chi-Square Test', 'Chi-Square Test'],\n",
    "    \"Statistic\":statistic,\n",
    "    \"P-Value\":p_Value,\n",
    "    \"Relationship\":[\"There is a relationship\" if i<0.05 else \"No relationship\" for i in p_Value]\n",
    "    \n",
    "\n",
    "})\n",
    "# a\n",
    "# print(a.to_markdown())"
   ]
  },
  {
   "cell_type": "markdown",
   "id": "709bf5be-d42d-4c1b-8571-6099de6b2edc",
   "metadata": {
    "execution": {
     "iopub.execute_input": "2024-09-03T09:07:35.926635Z",
     "iopub.status.busy": "2024-09-03T09:07:35.925639Z",
     "iopub.status.idle": "2024-09-03T09:07:35.931027Z",
     "shell.execute_reply": "2024-09-03T09:07:35.931027Z",
     "shell.execute_reply.started": "2024-09-03T09:07:35.926635Z"
    }
   },
   "source": [
    "|    | Target Variable           | Another Variable                            | Type of Hypothisis Test   |      Statistic |      P-Value | Relationship            |\n",
    "|---:|:--------------------------|:--------------------------------------------|:--------------------------|---------------:|-------------:|:------------------------|\n",
    "|  0 | Depression (2 Categories) | Age (Numerical)                             | Mann-Whitney U Test       |    1.93121e+10 | 8.65343e-30  | There is a relationship |\n",
    "|  1 | Depression (2 Categories) | Marital Status (4 Categories)               | Chi-Square Test           |   66.9861      | 1.88552e-14  | There is a relationship |\n",
    "|  2 | Depression (2 Categories) | Education Level (5 Categories)              | Chi-Square Test           |    4.92712     | 0.294857     | No relationship         |\n",
    "|  3 | Depression (2 Categories) | Number of Children (5 Categories)           | Chi-Square Test           |   37.4444      | 1.45881e-07  | There is a relationship |\n",
    "|  4 | Depression (2 Categories) | Smoking Status (3 Categories)               | Chi-Square Test           | 1166.17        | 5.8947e-254  | There is a relationship |\n",
    "|  5 | Depression (2 Categories) | Physical Activity Level (3 Categories)      | Chi-Square Test           |  527.441       | 2.93487e-115 | There is a relationship |\n",
    "|  6 | Depression (2 Categories) | Employment Status (2 Categories)            | Chi-Square Test           |  744.135       | 7.56388e-164 | There is a relationship |\n",
    "|  7 | Depression (2 Categories) | Income (Numerical)                          | Mann-Whitney U Test       |    1.97126e+10 | 2.13549e-111 | There is a relationship |\n",
    "|  8 | Depression (2 Categories) | Alcohol Consumption (3 Categories)          | Chi-Square Test           |  106.272       | 8.38038e-24  | There is a relationship |\n",
    "|  9 | Depression (2 Categories) | Dietary Habits (3 Categories)               | Chi-Square Test           |  114.2         | 1.59109e-25  | There is a relationship |\n",
    "| 10 | Depression (2 Categories) | Sleep Patterns (3 Categories)               | Chi-Square Test           |  123.653       | 1.40935e-27  | There is a relationship |\n",
    "| 11 | Depression (2 Categories) | History of Mental Illness (2 Categories)    | Chi-Square Test           |   15.0563      | 0.000104351  | There is a relationship |\n",
    "| 12 | Depression (2 Categories) | History of Substance Abuse (2 Categories)   | Chi-Square Test           |    4.50934     | 0.0337103    | There is a relationship |\n",
    "| 13 | Depression (2 Categories) | Family History of Depression (2 Categories) | Chi-Square Test           |    2.12851     | 0.144581     | No relationship         |"
   ]
  },
  {
   "cell_type": "code",
   "execution_count": 143,
   "id": "5fbabaff-a44c-40af-b86f-5b21201f57f5",
   "metadata": {
    "execution": {
     "iopub.execute_input": "2024-09-03T18:57:07.075197Z",
     "iopub.status.busy": "2024-09-03T18:57:07.075197Z",
     "iopub.status.idle": "2024-09-03T18:57:07.129433Z",
     "shell.execute_reply": "2024-09-03T18:57:07.129433Z",
     "shell.execute_reply.started": "2024-09-03T18:57:07.075197Z"
    }
   },
   "outputs": [],
   "source": [
    "df = parquet_df\n",
    "df.drop(columns=[\"Education Level\", \"Family History of Depression\"], inplace=True)"
   ]
  },
  {
   "cell_type": "code",
   "execution_count": null,
   "id": "b1c7660d-9d65-49c4-abf2-63d0d7d80aaf",
   "metadata": {},
   "outputs": [],
   "source": []
  },
  {
   "cell_type": "code",
   "execution_count": 144,
   "id": "b956210b-6be1-4a67-b10c-14ea8180775e",
   "metadata": {
    "execution": {
     "iopub.execute_input": "2024-09-03T18:57:07.129433Z",
     "iopub.status.busy": "2024-09-03T18:57:07.129433Z",
     "iopub.status.idle": "2024-09-03T18:57:07.140842Z",
     "shell.execute_reply": "2024-09-03T18:57:07.140842Z",
     "shell.execute_reply.started": "2024-09-03T18:57:07.129433Z"
    }
   },
   "outputs": [
    {
     "data": {
      "text/html": [
       "<div>\n",
       "<style scoped>\n",
       "    .dataframe tbody tr th:only-of-type {\n",
       "        vertical-align: middle;\n",
       "    }\n",
       "\n",
       "    .dataframe tbody tr th {\n",
       "        vertical-align: top;\n",
       "    }\n",
       "\n",
       "    .dataframe thead th {\n",
       "        text-align: right;\n",
       "    }\n",
       "</style>\n",
       "<table border=\"1\" class=\"dataframe\">\n",
       "  <thead>\n",
       "    <tr style=\"text-align: right;\">\n",
       "      <th></th>\n",
       "      <th>Age</th>\n",
       "      <th>Marital Status</th>\n",
       "      <th>Number of Children</th>\n",
       "      <th>Smoking Status</th>\n",
       "      <th>Physical Activity Level</th>\n",
       "      <th>Employment Status</th>\n",
       "      <th>Income</th>\n",
       "      <th>Alcohol Consumption</th>\n",
       "      <th>Dietary Habits</th>\n",
       "      <th>Sleep Patterns</th>\n",
       "      <th>History of Mental Illness</th>\n",
       "      <th>History of Substance Abuse</th>\n",
       "      <th>Depression</th>\n",
       "    </tr>\n",
       "  </thead>\n",
       "  <tbody>\n",
       "    <tr>\n",
       "      <th>0</th>\n",
       "      <td>31</td>\n",
       "      <td>Married</td>\n",
       "      <td>2</td>\n",
       "      <td>Non-smoker</td>\n",
       "      <td>Active</td>\n",
       "      <td>Unemployed</td>\n",
       "      <td>26265.67</td>\n",
       "      <td>Moderate</td>\n",
       "      <td>Moderate</td>\n",
       "      <td>Fair</td>\n",
       "      <td>Yes</td>\n",
       "      <td>No</td>\n",
       "      <td>Yes</td>\n",
       "    </tr>\n",
       "    <tr>\n",
       "      <th>1</th>\n",
       "      <td>55</td>\n",
       "      <td>Married</td>\n",
       "      <td>1</td>\n",
       "      <td>Non-smoker</td>\n",
       "      <td>Sedentary</td>\n",
       "      <td>Employed</td>\n",
       "      <td>42710.36</td>\n",
       "      <td>High</td>\n",
       "      <td>Unhealthy</td>\n",
       "      <td>Fair</td>\n",
       "      <td>Yes</td>\n",
       "      <td>No</td>\n",
       "      <td>Yes</td>\n",
       "    </tr>\n",
       "    <tr>\n",
       "      <th>2</th>\n",
       "      <td>78</td>\n",
       "      <td>Widowed</td>\n",
       "      <td>1</td>\n",
       "      <td>Non-smoker</td>\n",
       "      <td>Sedentary</td>\n",
       "      <td>Employed</td>\n",
       "      <td>125332.79</td>\n",
       "      <td>Low</td>\n",
       "      <td>Unhealthy</td>\n",
       "      <td>Good</td>\n",
       "      <td>No</td>\n",
       "      <td>No</td>\n",
       "      <td>No</td>\n",
       "    </tr>\n",
       "    <tr>\n",
       "      <th>3</th>\n",
       "      <td>58</td>\n",
       "      <td>Divorced</td>\n",
       "      <td>3</td>\n",
       "      <td>Non-smoker</td>\n",
       "      <td>Moderate</td>\n",
       "      <td>Unemployed</td>\n",
       "      <td>9992.78</td>\n",
       "      <td>Moderate</td>\n",
       "      <td>Moderate</td>\n",
       "      <td>Poor</td>\n",
       "      <td>No</td>\n",
       "      <td>No</td>\n",
       "      <td>No</td>\n",
       "    </tr>\n",
       "    <tr>\n",
       "      <th>4</th>\n",
       "      <td>18</td>\n",
       "      <td>Single</td>\n",
       "      <td>0</td>\n",
       "      <td>Non-smoker</td>\n",
       "      <td>Sedentary</td>\n",
       "      <td>Unemployed</td>\n",
       "      <td>8595.08</td>\n",
       "      <td>Low</td>\n",
       "      <td>Moderate</td>\n",
       "      <td>Fair</td>\n",
       "      <td>Yes</td>\n",
       "      <td>No</td>\n",
       "      <td>Yes</td>\n",
       "    </tr>\n",
       "  </tbody>\n",
       "</table>\n",
       "</div>"
      ],
      "text/plain": [
       "   Age Marital Status Number of Children Smoking Status  \\\n",
       "0   31        Married                  2     Non-smoker   \n",
       "1   55        Married                  1     Non-smoker   \n",
       "2   78        Widowed                  1     Non-smoker   \n",
       "3   58       Divorced                  3     Non-smoker   \n",
       "4   18         Single                  0     Non-smoker   \n",
       "\n",
       "  Physical Activity Level Employment Status     Income Alcohol Consumption  \\\n",
       "0                  Active        Unemployed   26265.67            Moderate   \n",
       "1               Sedentary          Employed   42710.36                High   \n",
       "2               Sedentary          Employed  125332.79                 Low   \n",
       "3                Moderate        Unemployed    9992.78            Moderate   \n",
       "4               Sedentary        Unemployed    8595.08                 Low   \n",
       "\n",
       "  Dietary Habits Sleep Patterns History of Mental Illness  \\\n",
       "0       Moderate           Fair                       Yes   \n",
       "1      Unhealthy           Fair                       Yes   \n",
       "2      Unhealthy           Good                        No   \n",
       "3       Moderate           Poor                        No   \n",
       "4       Moderate           Fair                       Yes   \n",
       "\n",
       "  History of Substance Abuse Depression  \n",
       "0                         No        Yes  \n",
       "1                         No        Yes  \n",
       "2                         No         No  \n",
       "3                         No         No  \n",
       "4                         No        Yes  "
      ]
     },
     "execution_count": 144,
     "metadata": {},
     "output_type": "execute_result"
    }
   ],
   "source": [
    "df.head()"
   ]
  },
  {
   "cell_type": "markdown",
   "id": "c1076ca2-9f68-4b5f-b4e1-6b499c5721d4",
   "metadata": {},
   "source": [
    "###\n",
    "---\n",
    "###"
   ]
  },
  {
   "cell_type": "markdown",
   "id": "0e3dc558-a613-4636-919e-8a4abd208252",
   "metadata": {},
   "source": [
    "## Spliting the data"
   ]
  },
  {
   "cell_type": "code",
   "execution_count": 145,
   "id": "92ab5ed2-dc6b-4324-8be7-cb66b8531b78",
   "metadata": {
    "execution": {
     "iopub.execute_input": "2024-09-03T18:57:07.141910Z",
     "iopub.status.busy": "2024-09-03T18:57:07.141910Z",
     "iopub.status.idle": "2024-09-03T18:57:07.240673Z",
     "shell.execute_reply": "2024-09-03T18:57:07.240673Z",
     "shell.execute_reply.started": "2024-09-03T18:57:07.141910Z"
    }
   },
   "outputs": [],
   "source": [
    "le_object = LabelEncoder()\n",
    "df[\"Depression\"] = le_object.fit_transform(df[\"Depression\"])\n",
    "target = df[\"Depression\"]\n",
    "df = df.drop(columns=\"Depression\")"
   ]
  },
  {
   "cell_type": "code",
   "execution_count": 146,
   "id": "bc343295-a2b7-4f24-bf9d-9adfe89be872",
   "metadata": {
    "execution": {
     "iopub.execute_input": "2024-09-03T18:57:07.240673Z",
     "iopub.status.busy": "2024-09-03T18:57:07.240673Z",
     "iopub.status.idle": "2024-09-03T18:57:07.375662Z",
     "shell.execute_reply": "2024-09-03T18:57:07.375662Z",
     "shell.execute_reply.started": "2024-09-03T18:57:07.240673Z"
    }
   },
   "outputs": [],
   "source": [
    "x_train, x_test, y_train, y_test = train_test_split(df, target, test_size=0.2, random_state=5)"
   ]
  },
  {
   "cell_type": "code",
   "execution_count": 147,
   "id": "0349952d-782e-4976-9077-ea5817fb91ea",
   "metadata": {
    "execution": {
     "iopub.execute_input": "2024-09-03T18:57:07.375662Z",
     "iopub.status.busy": "2024-09-03T18:57:07.375662Z",
     "iopub.status.idle": "2024-09-03T18:57:07.381470Z",
     "shell.execute_reply": "2024-09-03T18:57:07.380758Z",
     "shell.execute_reply.started": "2024-09-03T18:57:07.375662Z"
    }
   },
   "outputs": [
    {
     "name": "stdout",
     "output_type": "stream",
     "text": [
      "\n",
      "x_train shape : (331014, 12)\n",
      "x_test shape : (82754, 12)\n",
      "y_train shape : (331014,)\n",
      "y_test shape : (82754,)\n",
      "\n"
     ]
    }
   ],
   "source": [
    "print(f'''\n",
    "x_train shape : {x_train.shape}\n",
    "x_test shape : {x_test.shape}\n",
    "y_train shape : {y_train.shape}\n",
    "y_test shape : {y_test.shape}\n",
    "''')"
   ]
  },
  {
   "cell_type": "markdown",
   "id": "2d4ff4b5-c956-4a26-a2c5-06f76c3822d6",
   "metadata": {},
   "source": [
    "###\n",
    "---\n",
    "###"
   ]
  },
  {
   "cell_type": "markdown",
   "id": "5865223d-a20f-4997-b28c-95cf99f8a6df",
   "metadata": {},
   "source": [
    "## Transformation"
   ]
  },
  {
   "cell_type": "markdown",
   "id": "09d48e14-0255-4a4c-bf19-3549366b9ad9",
   "metadata": {},
   "source": [
    "###\n",
    "---\n",
    "###"
   ]
  },
  {
   "cell_type": "markdown",
   "id": "53df1dcc-dbe6-41c8-b4fb-b1bfc16ab77c",
   "metadata": {},
   "source": [
    "## Scaling"
   ]
  },
  {
   "cell_type": "code",
   "execution_count": 148,
   "id": "fbcbf95d-1d09-4b8b-be75-2f8dc6fdad0d",
   "metadata": {
    "execution": {
     "iopub.execute_input": "2024-09-03T18:57:07.382419Z",
     "iopub.status.busy": "2024-09-03T18:57:07.382419Z",
     "iopub.status.idle": "2024-09-03T18:57:07.391064Z",
     "shell.execute_reply": "2024-09-03T18:57:07.391064Z",
     "shell.execute_reply.started": "2024-09-03T18:57:07.382419Z"
    }
   },
   "outputs": [
    {
     "data": {
      "text/html": [
       "<div>\n",
       "<style scoped>\n",
       "    .dataframe tbody tr th:only-of-type {\n",
       "        vertical-align: middle;\n",
       "    }\n",
       "\n",
       "    .dataframe tbody tr th {\n",
       "        vertical-align: top;\n",
       "    }\n",
       "\n",
       "    .dataframe thead th {\n",
       "        text-align: right;\n",
       "    }\n",
       "</style>\n",
       "<table border=\"1\" class=\"dataframe\">\n",
       "  <thead>\n",
       "    <tr style=\"text-align: right;\">\n",
       "      <th></th>\n",
       "      <th>Age</th>\n",
       "      <th>Income</th>\n",
       "    </tr>\n",
       "  </thead>\n",
       "  <tbody>\n",
       "    <tr>\n",
       "      <th>137307</th>\n",
       "      <td>33</td>\n",
       "      <td>34048.17</td>\n",
       "    </tr>\n",
       "    <tr>\n",
       "      <th>30807</th>\n",
       "      <td>47</td>\n",
       "      <td>9002.91</td>\n",
       "    </tr>\n",
       "    <tr>\n",
       "      <th>154929</th>\n",
       "      <td>77</td>\n",
       "      <td>121705.51</td>\n",
       "    </tr>\n",
       "    <tr>\n",
       "      <th>150087</th>\n",
       "      <td>19</td>\n",
       "      <td>34575.37</td>\n",
       "    </tr>\n",
       "    <tr>\n",
       "      <th>353235</th>\n",
       "      <td>61</td>\n",
       "      <td>12004.30</td>\n",
       "    </tr>\n",
       "  </tbody>\n",
       "</table>\n",
       "</div>"
      ],
      "text/plain": [
       "        Age     Income\n",
       "137307   33   34048.17\n",
       "30807    47    9002.91\n",
       "154929   77  121705.51\n",
       "150087   19   34575.37\n",
       "353235   61   12004.30"
      ]
     },
     "execution_count": 148,
     "metadata": {},
     "output_type": "execute_result"
    }
   ],
   "source": [
    "x_train.select_dtypes(include=\"number\").head(5)"
   ]
  },
  {
   "cell_type": "code",
   "execution_count": 149,
   "id": "732b7088-2bda-4602-b226-b5730ff84489",
   "metadata": {
    "execution": {
     "iopub.execute_input": "2024-09-03T18:57:07.392080Z",
     "iopub.status.busy": "2024-09-03T18:57:07.392080Z",
     "iopub.status.idle": "2024-09-03T18:57:07.413938Z",
     "shell.execute_reply": "2024-09-03T18:57:07.413938Z",
     "shell.execute_reply.started": "2024-09-03T18:57:07.392080Z"
    }
   },
   "outputs": [],
   "source": [
    "scaler_objects = {}\n",
    "\n",
    "for i in x_train.select_dtypes(include=\"number\").columns:\n",
    "    scaler_objects[i] = MinMaxScaler()\n",
    "    scaler_objects[i].fit(x_train[[i]])\n",
    "    x_train[i] = scaler_objects[i].transform(x_train[[i]])"
   ]
  },
  {
   "cell_type": "code",
   "execution_count": 150,
   "id": "3374035c-ee2e-430c-9792-f5988268f7e5",
   "metadata": {
    "execution": {
     "iopub.execute_input": "2024-09-03T18:57:07.414946Z",
     "iopub.status.busy": "2024-09-03T18:57:07.414946Z",
     "iopub.status.idle": "2024-09-03T18:57:07.426477Z",
     "shell.execute_reply": "2024-09-03T18:57:07.426477Z",
     "shell.execute_reply.started": "2024-09-03T18:57:07.414946Z"
    }
   },
   "outputs": [
    {
     "data": {
      "text/html": [
       "<div>\n",
       "<style scoped>\n",
       "    .dataframe tbody tr th:only-of-type {\n",
       "        vertical-align: middle;\n",
       "    }\n",
       "\n",
       "    .dataframe tbody tr th {\n",
       "        vertical-align: top;\n",
       "    }\n",
       "\n",
       "    .dataframe thead th {\n",
       "        text-align: right;\n",
       "    }\n",
       "</style>\n",
       "<table border=\"1\" class=\"dataframe\">\n",
       "  <thead>\n",
       "    <tr style=\"text-align: right;\">\n",
       "      <th></th>\n",
       "      <th>Age</th>\n",
       "      <th>Income</th>\n",
       "    </tr>\n",
       "  </thead>\n",
       "  <tbody>\n",
       "    <tr>\n",
       "      <th>137307</th>\n",
       "      <td>0.241935</td>\n",
       "      <td>0.162144</td>\n",
       "    </tr>\n",
       "    <tr>\n",
       "      <th>30807</th>\n",
       "      <td>0.467742</td>\n",
       "      <td>0.042872</td>\n",
       "    </tr>\n",
       "    <tr>\n",
       "      <th>154929</th>\n",
       "      <td>0.951613</td>\n",
       "      <td>0.579589</td>\n",
       "    </tr>\n",
       "    <tr>\n",
       "      <th>150087</th>\n",
       "      <td>0.016129</td>\n",
       "      <td>0.164654</td>\n",
       "    </tr>\n",
       "    <tr>\n",
       "      <th>353235</th>\n",
       "      <td>0.693548</td>\n",
       "      <td>0.057165</td>\n",
       "    </tr>\n",
       "  </tbody>\n",
       "</table>\n",
       "</div>"
      ],
      "text/plain": [
       "             Age    Income\n",
       "137307  0.241935  0.162144\n",
       "30807   0.467742  0.042872\n",
       "154929  0.951613  0.579589\n",
       "150087  0.016129  0.164654\n",
       "353235  0.693548  0.057165"
      ]
     },
     "execution_count": 150,
     "metadata": {},
     "output_type": "execute_result"
    }
   ],
   "source": [
    "x_train.select_dtypes(include=\"number\").head(5)"
   ]
  },
  {
   "cell_type": "code",
   "execution_count": 151,
   "id": "c00ade51-337d-43a3-9fd4-e580b9e22127",
   "metadata": {
    "execution": {
     "iopub.execute_input": "2024-09-03T18:57:07.427583Z",
     "iopub.status.busy": "2024-09-03T18:57:07.427583Z",
     "iopub.status.idle": "2024-09-03T18:57:07.435957Z",
     "shell.execute_reply": "2024-09-03T18:57:07.435957Z",
     "shell.execute_reply.started": "2024-09-03T18:57:07.427583Z"
    }
   },
   "outputs": [],
   "source": [
    "for i in x_test.select_dtypes(include=\"number\").columns:\n",
    "    x_test[i] = scaler_objects[i].transform(x_test[[i]])"
   ]
  },
  {
   "cell_type": "markdown",
   "id": "7e0661b0-4e6e-402d-a6fa-0a1f82cf5525",
   "metadata": {},
   "source": [
    "###\n",
    "---\n",
    "###"
   ]
  },
  {
   "cell_type": "markdown",
   "id": "4e00bc87-877b-41c4-8690-4502442cc597",
   "metadata": {},
   "source": [
    "## Encoding"
   ]
  },
  {
   "cell_type": "code",
   "execution_count": 152,
   "id": "b284e80f-7507-40c0-8eb0-e81948cb90ff",
   "metadata": {
    "execution": {
     "iopub.execute_input": "2024-09-03T18:57:07.436967Z",
     "iopub.status.busy": "2024-09-03T18:57:07.436967Z",
     "iopub.status.idle": "2024-09-03T18:57:08.544123Z",
     "shell.execute_reply": "2024-09-03T18:57:08.544123Z",
     "shell.execute_reply.started": "2024-09-03T18:57:07.436967Z"
    },
    "scrolled": true
   },
   "outputs": [],
   "source": [
    "new_df = x_train.select_dtypes(include=\"number\")\n",
    "new_df.reset_index(inplace=True)\n",
    "encoder_objects = {}\n",
    "\n",
    "for i in x_train.select_dtypes(exclude=\"number\").columns:\n",
    "    # print(i)\n",
    "    encoder_objects[i] = OneHotEncoder(dtype='int', drop=\"first\")\n",
    "    dummy_df = encoder_objects[i].fit_transform(x_train[[i]]).toarray()\n",
    "    new_df = pd.concat([new_df, pd.DataFrame(dummy_df, columns=encoder_objects[i].get_feature_names_out())], axis=1)\n",
    "    # print(new_df)\n",
    "\n",
    "x_train = new_df"
   ]
  },
  {
   "cell_type": "code",
   "execution_count": 153,
   "id": "af64330f-35de-4027-a295-7174774a7315",
   "metadata": {
    "execution": {
     "iopub.execute_input": "2024-09-03T18:57:08.544123Z",
     "iopub.status.busy": "2024-09-03T18:57:08.544123Z",
     "iopub.status.idle": "2024-09-03T18:57:08.814416Z",
     "shell.execute_reply": "2024-09-03T18:57:08.814416Z",
     "shell.execute_reply.started": "2024-09-03T18:57:08.544123Z"
    }
   },
   "outputs": [],
   "source": [
    "new_df = x_test.select_dtypes(include=\"number\")\n",
    "new_df.reset_index(inplace=True)\n",
    "\n",
    "for i in x_test.select_dtypes(exclude=\"number\").columns:\n",
    "    dummy_df = encoder_objects[i].transform(x_test[[i]]).toarray()\n",
    "    new_df = pd.concat([new_df, pd.DataFrame(dummy_df, columns=encoder_objects[i].get_feature_names_out())], axis=1)\n",
    "    # print(new_df)\n",
    "\n",
    "x_test = new_df"
   ]
  },
  {
   "cell_type": "code",
   "execution_count": 154,
   "id": "6c62c88b",
   "metadata": {
    "execution": {
     "iopub.execute_input": "2024-09-03T18:57:08.814416Z",
     "iopub.status.busy": "2024-09-03T18:57:08.814416Z",
     "iopub.status.idle": "2024-09-03T18:57:08.842130Z",
     "shell.execute_reply": "2024-09-03T18:57:08.841686Z",
     "shell.execute_reply.started": "2024-09-03T18:57:08.814416Z"
    }
   },
   "outputs": [],
   "source": [
    "x_train.drop(columns=\"index\", inplace=True)\n",
    "x_test.drop(columns=\"index\", inplace=True)"
   ]
  },
  {
   "cell_type": "markdown",
   "id": "7b6c6d1c-5c9f-42b3-8658-97215432267e",
   "metadata": {},
   "source": [
    "###\n",
    "---\n",
    "###"
   ]
  },
  {
   "cell_type": "markdown",
   "id": "e91d3490-44b1-4a9a-8608-0757b24e37a4",
   "metadata": {},
   "source": [
    "## Base Model - Logistic Regression"
   ]
  },
  {
   "cell_type": "code",
   "execution_count": 176,
   "id": "63a6c02d-3395-44dc-8a4b-e607bf0a4e7b",
   "metadata": {
    "execution": {
     "iopub.execute_input": "2024-09-03T19:03:11.566380Z",
     "iopub.status.busy": "2024-09-03T19:03:11.566380Z",
     "iopub.status.idle": "2024-09-03T19:03:11.576704Z",
     "shell.execute_reply": "2024-09-03T19:03:11.575694Z",
     "shell.execute_reply.started": "2024-09-03T19:03:11.566380Z"
    }
   },
   "outputs": [],
   "source": [
    "def build_model(algorithm=LogisticRegression()):\n",
    "    algo_name = algorithm if len(str(algorithm)) <= 50 else str(algorithm)[:50]+\"...)\"\n",
    "    model = algorithm.fit(x_train, y_train)\n",
    "    y_pred = model.predict(x_test)\n",
    "    print(\"=\"*(48+len(str(algo_name))))\n",
    "    print(\"-\"*(48+len(str(algo_name))))\n",
    "    print(f\"{\"=\"*10} Classification Report for {algo_name} {\"=\"*10}\")\n",
    "    print(\"-\"*(48+len(str(algo_name))))\n",
    "    print(\"=\"*(48+len(str(algo_name))))\n",
    "    print(classification_report(y_test, y_pred))"
   ]
  },
  {
   "cell_type": "code",
   "execution_count": 174,
   "id": "38404b0e-0a00-4133-baeb-6b36b6bcccd0",
   "metadata": {
    "execution": {
     "iopub.execute_input": "2024-09-03T19:02:29.304706Z",
     "iopub.status.busy": "2024-09-03T19:02:29.304706Z",
     "iopub.status.idle": "2024-09-03T19:02:33.450312Z",
     "shell.execute_reply": "2024-09-03T19:02:33.450312Z",
     "shell.execute_reply.started": "2024-09-03T19:02:29.304706Z"
    }
   },
   "outputs": [
    {
     "name": "stdout",
     "output_type": "stream",
     "text": [
      "====================================================================\n",
      "--------------------------------------------------------------------\n",
      "========== Classification Report for LogisticRegression() ==========\n",
      "--------------------------------------------------------------------\n",
      "====================================================================\n",
      "              precision    recall  f1-score   support\n",
      "\n",
      "           0       0.67      1.00      0.80     55526\n",
      "           1       0.00      0.00      0.00     27228\n",
      "\n",
      "    accuracy                           0.67     82754\n",
      "   macro avg       0.34      0.50      0.40     82754\n",
      "weighted avg       0.45      0.67      0.54     82754\n",
      "\n"
     ]
    }
   ],
   "source": [
    "build_model()"
   ]
  },
  {
   "cell_type": "markdown",
   "id": "d7047e6c-6006-4644-9343-681ef0b8ad34",
   "metadata": {},
   "source": [
    "###\n",
    "---\n",
    "###"
   ]
  },
  {
   "cell_type": "code",
   "execution_count": 166,
   "id": "492af32c-c520-4559-bf1e-b321d7fdb75f",
   "metadata": {
    "execution": {
     "iopub.execute_input": "2024-09-03T19:00:17.202772Z",
     "iopub.status.busy": "2024-09-03T19:00:17.202772Z",
     "iopub.status.idle": "2024-09-03T19:00:17.516099Z",
     "shell.execute_reply": "2024-09-03T19:00:17.516099Z",
     "shell.execute_reply.started": "2024-09-03T19:00:17.202772Z"
    }
   },
   "outputs": [
    {
     "name": "stdout",
     "output_type": "stream",
     "text": [
      "=================================================================\n",
      "-----------------------------------------------------------------\n",
      "========== Classification Report for RidgeClassifier() ==========\n",
      "-----------------------------------------------------------------\n",
      "=================================================================\n",
      "              precision    recall  f1-score   support\n",
      "\n",
      "           0       0.67      1.00      0.80     55526\n",
      "           1       0.00      0.00      0.00     27228\n",
      "\n",
      "    accuracy                           0.67     82754\n",
      "   macro avg       0.34      0.50      0.40     82754\n",
      "weighted avg       0.45      0.67      0.54     82754\n",
      "\n"
     ]
    }
   ],
   "source": [
    "build_model(RidgeClassifier())"
   ]
  },
  {
   "cell_type": "markdown",
   "id": "2b500439-f732-4c5c-8b7a-db64e4966036",
   "metadata": {},
   "source": [
    "###\n",
    "---\n",
    "###"
   ]
  },
  {
   "cell_type": "code",
   "execution_count": 167,
   "id": "53f9e325-c36a-4d92-bb26-2ef9713f3188",
   "metadata": {
    "execution": {
     "iopub.execute_input": "2024-09-03T19:00:19.780715Z",
     "iopub.status.busy": "2024-09-03T19:00:19.780715Z",
     "iopub.status.idle": "2024-09-03T19:00:19.786859Z",
     "shell.execute_reply": "2024-09-03T19:00:19.785802Z",
     "shell.execute_reply.started": "2024-09-03T19:00:19.780715Z"
    }
   },
   "outputs": [],
   "source": [
    "from sklearn.tree import DecisionTreeClassifier"
   ]
  },
  {
   "cell_type": "code",
   "execution_count": 168,
   "id": "3b94334c-1c1e-44d2-9c29-00f54637385a",
   "metadata": {
    "execution": {
     "iopub.execute_input": "2024-09-03T19:00:21.168150Z",
     "iopub.status.busy": "2024-09-03T19:00:21.168150Z",
     "iopub.status.idle": "2024-09-03T19:00:25.494172Z",
     "shell.execute_reply": "2024-09-03T19:00:25.493419Z",
     "shell.execute_reply.started": "2024-09-03T19:00:21.168150Z"
    }
   },
   "outputs": [
    {
     "name": "stdout",
     "output_type": "stream",
     "text": [
      "========================================================================\n",
      "------------------------------------------------------------------------\n",
      "========== Classification Report for DecisionTreeClassifier() ==========\n",
      "------------------------------------------------------------------------\n",
      "========================================================================\n",
      "              precision    recall  f1-score   support\n",
      "\n",
      "           0       0.67      0.65      0.66     55526\n",
      "           1       0.34      0.36      0.35     27228\n",
      "\n",
      "    accuracy                           0.56     82754\n",
      "   macro avg       0.50      0.51      0.50     82754\n",
      "weighted avg       0.56      0.56      0.56     82754\n",
      "\n"
     ]
    }
   ],
   "source": [
    "build_model(DecisionTreeClassifier())"
   ]
  },
  {
   "cell_type": "markdown",
   "id": "1da1703f-d5e4-466c-85fb-396e3642f3f3",
   "metadata": {},
   "source": [
    "###\n",
    "---\n",
    "###"
   ]
  },
  {
   "cell_type": "code",
   "execution_count": 169,
   "id": "de7c3a2a-8af2-4619-921a-9c57cbafa701",
   "metadata": {
    "execution": {
     "iopub.execute_input": "2024-09-03T19:00:25.496180Z",
     "iopub.status.busy": "2024-09-03T19:00:25.495183Z",
     "iopub.status.idle": "2024-09-03T19:00:25.498624Z",
     "shell.execute_reply": "2024-09-03T19:00:25.498624Z",
     "shell.execute_reply.started": "2024-09-03T19:00:25.496180Z"
    }
   },
   "outputs": [],
   "source": [
    "from sklearn.ensemble import RandomForestClassifier"
   ]
  },
  {
   "cell_type": "code",
   "execution_count": 170,
   "id": "4927b3f2-0590-46ac-a95a-e474d0865f80",
   "metadata": {
    "execution": {
     "iopub.execute_input": "2024-09-03T19:00:25.500940Z",
     "iopub.status.busy": "2024-09-03T19:00:25.499636Z",
     "iopub.status.idle": "2024-09-03T19:01:21.294213Z",
     "shell.execute_reply": "2024-09-03T19:01:21.294213Z",
     "shell.execute_reply.started": "2024-09-03T19:00:25.500940Z"
    }
   },
   "outputs": [
    {
     "name": "stdout",
     "output_type": "stream",
     "text": [
      "========================================================================\n",
      "------------------------------------------------------------------------\n",
      "========== Classification Report for RandomForestClassifier() ==========\n",
      "------------------------------------------------------------------------\n",
      "========================================================================\n",
      "              precision    recall  f1-score   support\n",
      "\n",
      "           0       0.67      0.81      0.73     55526\n",
      "           1       0.34      0.20      0.25     27228\n",
      "\n",
      "    accuracy                           0.61     82754\n",
      "   macro avg       0.51      0.51      0.49     82754\n",
      "weighted avg       0.56      0.61      0.58     82754\n",
      "\n"
     ]
    }
   ],
   "source": [
    "build_model(RandomForestClassifier())"
   ]
  },
  {
   "cell_type": "markdown",
   "id": "4e9d5e7a-89b3-4653-864e-5e04f52be7b5",
   "metadata": {},
   "source": [
    "###\n",
    "---\n",
    "###"
   ]
  },
  {
   "cell_type": "code",
   "execution_count": 171,
   "id": "70e91ab4-4e7e-44d4-93f2-778a567408c8",
   "metadata": {
    "execution": {
     "iopub.execute_input": "2024-09-03T19:01:21.295716Z",
     "iopub.status.busy": "2024-09-03T19:01:21.295716Z",
     "iopub.status.idle": "2024-09-03T19:01:21.299823Z",
     "shell.execute_reply": "2024-09-03T19:01:21.299418Z",
     "shell.execute_reply.started": "2024-09-03T19:01:21.295716Z"
    }
   },
   "outputs": [],
   "source": [
    "from xgboost.sklearn import XGBClassifier"
   ]
  },
  {
   "cell_type": "code",
   "execution_count": 177,
   "id": "ca1b464d-dd8a-4302-85de-ddd98c5e2ddb",
   "metadata": {
    "execution": {
     "iopub.execute_input": "2024-09-03T19:03:18.767752Z",
     "iopub.status.busy": "2024-09-03T19:03:18.767752Z",
     "iopub.status.idle": "2024-09-03T19:03:20.095606Z",
     "shell.execute_reply": "2024-09-03T19:03:20.095606Z",
     "shell.execute_reply.started": "2024-09-03T19:03:18.767752Z"
    }
   },
   "outputs": [
    {
     "name": "stdout",
     "output_type": "stream",
     "text": [
      "======================================================================================================\n",
      "------------------------------------------------------------------------------------------------------\n",
      "========== Classification Report for XGBClassifier(base_score=None, booster=None, callb...) ==========\n",
      "------------------------------------------------------------------------------------------------------\n",
      "======================================================================================================\n",
      "              precision    recall  f1-score   support\n",
      "\n",
      "           0       0.67      0.99      0.80     55526\n",
      "           1       0.39      0.01      0.01     27228\n",
      "\n",
      "    accuracy                           0.67     82754\n",
      "   macro avg       0.53      0.50      0.41     82754\n",
      "weighted avg       0.58      0.67      0.54     82754\n",
      "\n"
     ]
    }
   ],
   "source": [
    "build_model(XGBClassifier())"
   ]
  },
  {
   "cell_type": "code",
   "execution_count": null,
   "id": "34e1edba-4f3d-4079-bee2-2e0de7cca004",
   "metadata": {},
   "outputs": [],
   "source": []
  }
 ],
 "metadata": {
  "kernelspec": {
   "display_name": "Python 3 (ipykernel)",
   "language": "python",
   "name": "python3"
  },
  "language_info": {
   "codemirror_mode": {
    "name": "ipython",
    "version": 3
   },
   "file_extension": ".py",
   "mimetype": "text/x-python",
   "name": "python",
   "nbconvert_exporter": "python",
   "pygments_lexer": "ipython3",
   "version": "3.12.4"
  },
  "widgets": {
   "application/vnd.jupyter.widget-state+json": {
    "state": {},
    "version_major": 2,
    "version_minor": 0
   }
  }
 },
 "nbformat": 4,
 "nbformat_minor": 5
}
